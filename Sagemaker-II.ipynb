{
 "cells": [
  {
   "cell_type": "code",
   "execution_count": 1,
   "id": "d32da141",
   "metadata": {},
   "outputs": [
    {
     "name": "stderr",
     "output_type": "stream",
     "text": [
      "/home/ec2-user/anaconda3/envs/tensorflow2_p36/lib/python3.6/site-packages/boto3/compat.py:88: PythonDeprecationWarning: Boto3 will no longer support Python 3.6 starting May 30, 2022. To continue receiving service updates, bug fixes, and security updates please upgrade to Python 3.7 or later. More information can be found here: https://aws.amazon.com/blogs/developer/python-support-policy-updates-for-aws-sdks-and-tools/\n",
      "  warnings.warn(warning, PythonDeprecationWarning)\n"
     ]
    },
    {
     "name": "stdout",
     "output_type": "stream",
     "text": [
      "iibucketai\n",
      "iibucketai-1\n"
     ]
    }
   ],
   "source": [
    "import boto3\n",
    "import pandas as pd\n",
    "\n",
    "s3 = boto3.client('s3')\n",
    "\n",
    "s3 = boto3.resource(\n",
    "    service_name='s3',\n",
    "    region_name='us-east-1',\n",
    "    aws_access_key_id='',\n",
    "    aws_secret_access_key=''\n",
    ")\n",
    "# Print out bucket names\n",
    "for bucket in s3.buckets.all():\n",
    "    print(bucket.name)"
   ]
  },
  {
   "cell_type": "code",
   "execution_count": 2,
   "id": "dd91585c",
   "metadata": {},
   "outputs": [],
   "source": [
    "import os\n",
    "os.environ[\"AWS_DEFAULT_REGION\"] = ''\n",
    "os.environ[\"AWS_ACCESS_KEY_ID\"] = ''\n",
    "os.environ[\"AWS_SECRET_ACCESS_KEY\"] = ''"
   ]
  },
  {
   "cell_type": "code",
   "execution_count": 3,
   "id": "0ded30a5",
   "metadata": {},
   "outputs": [],
   "source": [
    "from io import BytesIO\n",
    "import boto3\n",
    "import numpy as np\n",
    "train_x_obj = s3.Bucket('iibucketai').Object('train_x.npy').get()\n",
    "train_y_obj = s3.Bucket('iibucketai').Object('train_y.npy').get()\n",
    "train_x = np.load(BytesIO(train_x_obj['Body'].read()))\n",
    "train_y = np.load(BytesIO(train_y_obj['Body'].read()))\n",
    "\n",
    "test_x_obj = s3.Bucket('iibucketai').Object('test_x.npy').get()\n",
    "test_y_obj = s3.Bucket('iibucketai').Object('test_y.npy').get()\n",
    "test_x = np.load(BytesIO(test_x_obj['Body'].read()))\n",
    "test_y = np.load(BytesIO(test_y_obj['Body'].read()))\n",
    "\n",
    "val_x_obj = s3.Bucket('iibucketai').Object('val_x.npy').get()\n",
    "val_y_obj = s3.Bucket('iibucketai').Object('val_y.npy').get()\n",
    "val_x = np.load(BytesIO(val_x_obj['Body'].read()))\n",
    "val_y = np.load(BytesIO(val_y_obj['Body'].read()))"
   ]
  },
  {
   "cell_type": "code",
   "execution_count": 4,
   "id": "81f2f38b",
   "metadata": {},
   "outputs": [
    {
     "name": "stdout",
     "output_type": "stream",
     "text": [
      "Train :  (80000, 500) (80000, 500)\n",
      "Test :  (80000, 500) (80000, 500)\n",
      "Val :  (80000, 500) (80000, 500)\n"
     ]
    }
   ],
   "source": [
    "print('Train : ',train_x.shape, train_y.shape)\n",
    "print('Test : ',test_x.shape, test_y.shape)\n",
    "print( 'Val : ',val_x.shape, val_y.shape)"
   ]
  },
  {
   "cell_type": "code",
   "execution_count": 5,
   "id": "7e502204",
   "metadata": {},
   "outputs": [],
   "source": [
    "train_x = np.concatenate((train_x,val_x))"
   ]
  },
  {
   "cell_type": "code",
   "execution_count": 6,
   "id": "a2027e61",
   "metadata": {},
   "outputs": [],
   "source": [
    "train_y = np.concatenate((train_y,val_y))"
   ]
  },
  {
   "cell_type": "code",
   "execution_count": 7,
   "id": "f12eeb9e",
   "metadata": {},
   "outputs": [],
   "source": [
    "import tensorflow as tf\n",
    "from tensorflow import keras\n",
    "from tensorflow.keras import layers"
   ]
  },
  {
   "cell_type": "code",
   "execution_count": null,
   "id": "9497d647",
   "metadata": {},
   "outputs": [
    {
     "name": "stdout",
     "output_type": "stream",
     "text": [
      "Model: \"CNN\"\n",
      "_________________________________________________________________\n",
      "Layer (type)                 Output Shape              Param #   \n",
      "=================================================================\n",
      "input_5 (InputLayer)         [(None, 500, 1)]          0         \n",
      "_________________________________________________________________\n",
      "conv1d_28 (Conv1D)           (None, 500, 8)            32        \n",
      "_________________________________________________________________\n",
      "conv1d_29 (Conv1D)           (None, 500, 8)            136       \n",
      "_________________________________________________________________\n",
      "conv1d_30 (Conv1D)           (None, 500, 16)           400       \n",
      "_________________________________________________________________\n",
      "conv1d_31 (Conv1D)           (None, 500, 16)           784       \n",
      "_________________________________________________________________\n",
      "conv1d_32 (Conv1D)           (None, 500, 32)           1568      \n",
      "_________________________________________________________________\n",
      "conv1d_33 (Conv1D)           (None, 500, 32)           3104      \n",
      "_________________________________________________________________\n",
      "conv1d_34 (Conv1D)           (None, 500, 64)           6208      \n",
      "_________________________________________________________________\n",
      "conv1d_35 (Conv1D)           (None, 500, 64)           12352     \n",
      "_________________________________________________________________\n",
      "max_pooling1d_6 (MaxPooling1 (None, 250, 64)           0         \n",
      "_________________________________________________________________\n",
      "flatten_4 (Flatten)          (None, 16000)             0         \n",
      "_________________________________________________________________\n",
      "dense_12 (Dense)             (None, 500)               8000500   \n",
      "_________________________________________________________________\n",
      "dense_13 (Dense)             (None, 500)               250500    \n",
      "_________________________________________________________________\n",
      "dense_14 (Dense)             (None, 500)               250500    \n",
      "=================================================================\n",
      "Total params: 8,526,084\n",
      "Trainable params: 8,526,084\n",
      "Non-trainable params: 0\n",
      "_________________________________________________________________\n",
      "Train on 112000 samples, validate on 48000 samples\n",
      "Epoch 1/100\n",
      "112000/112000 [==============================] - 100s 897us/sample - loss: 0.6775 - mae: 0.5784 - val_loss: 1.0360 - val_mae: 0.7920\n",
      "Epoch 2/100\n",
      "112000/112000 [==============================] - 101s 898us/sample - loss: 0.5838 - mae: 0.5473 - val_loss: 0.9705 - val_mae: 0.7701\n",
      "Epoch 3/100\n",
      "112000/112000 [==============================] - 98s 878us/sample - loss: 0.5617 - mae: 0.5346 - val_loss: 0.9489 - val_mae: 0.7626\n",
      "Epoch 4/100\n",
      "112000/112000 [==============================] - 100s 890us/sample - loss: 0.5529 - mae: 0.5272 - val_loss: 0.9413 - val_mae: 0.7580\n",
      "Epoch 5/100\n",
      "112000/112000 [==============================] - 98s 878us/sample - loss: 0.5485 - mae: 0.5221 - val_loss: 0.9366 - val_mae: 0.7559\n",
      "Epoch 6/100\n",
      "112000/112000 [==============================] - 100s 894us/sample - loss: 0.5455 - mae: 0.5184 - val_loss: 0.9341 - val_mae: 0.7534\n",
      "Epoch 7/100\n",
      "112000/112000 [==============================] - 98s 877us/sample - loss: 0.5434 - mae: 0.5160 - val_loss: 0.9320 - val_mae: 0.7535\n",
      "Epoch 8/100\n",
      "112000/112000 [==============================] - 100s 894us/sample - loss: 0.5418 - mae: 0.5146 - val_loss: 0.9308 - val_mae: 0.7527\n",
      "Epoch 9/100\n",
      "112000/112000 [==============================] - 100s 891us/sample - loss: 0.5405 - mae: 0.5135 - val_loss: 0.9292 - val_mae: 0.7525\n",
      "Epoch 10/100\n",
      "112000/112000 [==============================] - 98s 879us/sample - loss: 0.5395 - mae: 0.5127 - val_loss: 0.9276 - val_mae: 0.7508\n",
      "Epoch 11/100\n",
      "112000/112000 [==============================] - 100s 894us/sample - loss: 0.5386 - mae: 0.5121 - val_loss: 0.9269 - val_mae: 0.7498\n",
      "Epoch 12/100\n",
      " 62080/112000 [===============>..............] - ETA: 38s - loss: 0.5373 - mae: 0.5114"
     ]
    }
   ],
   "source": [
    "if len(train_x.shape)<3:\n",
    "    train_X = train_x.reshape(train_x.shape[0],train_x.shape[1],1)\n",
    "    train_y = train_y.reshape(train_y.shape[0],train_y.shape[1],1)\n",
    "    val_X = val_x.reshape(val_x.shape[0],val_x.shape[1],1)\n",
    "    test_X = test_x.reshape(test_x.shape[0],test_x.shape[1],1)\n",
    "    #wy = y.reshape(y.shape[0],y.shape[1])\n",
    "\n",
    "Input = keras.Input(shape=(500,1))\n",
    "x = layers.Conv1D(8,3,activation='relu', padding = 'same')(Input)#(x)\n",
    "x = layers.Conv1D(8,2,activation='relu', padding = 'same')(x)\n",
    "x = layers.Conv1D(16,3,activation='relu', padding = 'same')(x)\n",
    "x = layers.Conv1D(16,3,activation='relu', padding = 'same')(x)\n",
    "x = layers.Conv1D(32,3,activation='relu', padding = 'same')(x)\n",
    "x = layers.Conv1D(32,3,activation='relu', padding = 'same')(x)\n",
    "x = layers.Conv1D(64,3,activation='relu', padding = 'same')(x)\n",
    "x = layers.Conv1D(64,3,activation='relu', padding = 'same')(x)\n",
    "x = layers.MaxPooling1D(2)(x)\n",
    "\n",
    "x = layers.Flatten()(x)#(pool1)#(conv)\n",
    "\n",
    "x = layers.Dense(500,activation='relu')(x)\n",
    "x = layers.Dense(500,activation='relu')(x)\n",
    "output = layers.Dense(500,activation='relu')(x)\n",
    "model = keras.Model(inputs=Input, outputs=output, name = 'CNN')\n",
    "model.compile(optimizer=keras.optimizers.Adam(learning_rate=0.0001), loss=keras.losses.MSE,\n",
    "                           metrics=['mae'])\n",
    "model.summary()\n",
    "history=model.fit(train_X,train_y,\n",
    "                batch_size=128,epochs=100,\n",
    "                #validation_data=(val_x,val_y),\n",
    "                validation_split=0.3,\n",
    "                shuffle=True)"
   ]
  },
  {
   "cell_type": "code",
   "execution_count": null,
   "id": "01ba9cd8",
   "metadata": {},
   "outputs": [],
   "source": []
  }
 ],
 "metadata": {
  "kernelspec": {
   "display_name": "Python 3 (ipykernel)",
   "language": "python",
   "name": "python3"
  },
  "language_info": {
   "codemirror_mode": {
    "name": "ipython",
    "version": 3
   },
   "file_extension": ".py",
   "mimetype": "text/x-python",
   "name": "python",
   "nbconvert_exporter": "python",
   "pygments_lexer": "ipython3",
   "version": "3.9.7"
  }
 },
 "nbformat": 4,
 "nbformat_minor": 5
}
